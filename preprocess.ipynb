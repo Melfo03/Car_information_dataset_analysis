{
 "cells": [
  {
   "cell_type": "code",
   "execution_count": 9,
   "id": "2eca3cdc-a39f-4713-950d-a799ba39ae4a",
   "metadata": {},
   "outputs": [],
   "source": [
    "import pandas as pd \n",
    "import numpy as np\n",
    "import seaborn as sns\n",
    "import matplotlib.pyplot as plt\n",
    "import os\n",
    "os.environ[\"KMP_DUPLICATE_LIB_OK\"]=\"TRUE\"\n",
    "import warnings\n",
    "warnings.filterwarnings('ignore')"
   ]
  },
  {
   "cell_type": "code",
   "execution_count": 11,
   "id": "570d2f36-5997-4e3f-be7e-d430928abe9b",
   "metadata": {},
   "outputs": [],
   "source": [
    "df=pd.read_csv(\"Automobile.csv\")"
   ]
  },
  {
   "cell_type": "code",
   "execution_count": 417,
   "id": "22236a70-8e2b-4d4e-bdb3-4e4bd3d54750",
   "metadata": {
    "scrolled": true
   },
   "outputs": [
    {
     "data": {
      "text/html": [
       "<div>\n",
       "<style scoped>\n",
       "    .dataframe tbody tr th:only-of-type {\n",
       "        vertical-align: middle;\n",
       "    }\n",
       "\n",
       "    .dataframe tbody tr th {\n",
       "        vertical-align: top;\n",
       "    }\n",
       "\n",
       "    .dataframe thead th {\n",
       "        text-align: right;\n",
       "    }\n",
       "</style>\n",
       "<table border=\"1\" class=\"dataframe\">\n",
       "  <thead>\n",
       "    <tr style=\"text-align: right;\">\n",
       "      <th></th>\n",
       "      <th>name</th>\n",
       "      <th>mpg</th>\n",
       "      <th>cylinders</th>\n",
       "      <th>displacement</th>\n",
       "      <th>horsepower</th>\n",
       "      <th>weight</th>\n",
       "      <th>acceleration</th>\n",
       "      <th>model_year</th>\n",
       "      <th>origin</th>\n",
       "    </tr>\n",
       "  </thead>\n",
       "  <tbody>\n",
       "    <tr>\n",
       "      <th>0</th>\n",
       "      <td>chevrolet chevelle malibu</td>\n",
       "      <td>18.0</td>\n",
       "      <td>8</td>\n",
       "      <td>307.0</td>\n",
       "      <td>130.0</td>\n",
       "      <td>3504</td>\n",
       "      <td>12.0</td>\n",
       "      <td>70</td>\n",
       "      <td>usa</td>\n",
       "    </tr>\n",
       "    <tr>\n",
       "      <th>1</th>\n",
       "      <td>buick skylark 320</td>\n",
       "      <td>15.0</td>\n",
       "      <td>8</td>\n",
       "      <td>350.0</td>\n",
       "      <td>165.0</td>\n",
       "      <td>3693</td>\n",
       "      <td>11.5</td>\n",
       "      <td>70</td>\n",
       "      <td>usa</td>\n",
       "    </tr>\n",
       "    <tr>\n",
       "      <th>2</th>\n",
       "      <td>plymouth satellite</td>\n",
       "      <td>18.0</td>\n",
       "      <td>8</td>\n",
       "      <td>318.0</td>\n",
       "      <td>150.0</td>\n",
       "      <td>3436</td>\n",
       "      <td>11.0</td>\n",
       "      <td>70</td>\n",
       "      <td>usa</td>\n",
       "    </tr>\n",
       "    <tr>\n",
       "      <th>3</th>\n",
       "      <td>amc rebel sst</td>\n",
       "      <td>16.0</td>\n",
       "      <td>8</td>\n",
       "      <td>304.0</td>\n",
       "      <td>150.0</td>\n",
       "      <td>3433</td>\n",
       "      <td>12.0</td>\n",
       "      <td>70</td>\n",
       "      <td>usa</td>\n",
       "    </tr>\n",
       "    <tr>\n",
       "      <th>4</th>\n",
       "      <td>ford torino</td>\n",
       "      <td>17.0</td>\n",
       "      <td>8</td>\n",
       "      <td>302.0</td>\n",
       "      <td>140.0</td>\n",
       "      <td>3449</td>\n",
       "      <td>10.5</td>\n",
       "      <td>70</td>\n",
       "      <td>usa</td>\n",
       "    </tr>\n",
       "  </tbody>\n",
       "</table>\n",
       "</div>"
      ],
      "text/plain": [
       "                        name   mpg  cylinders  displacement  horsepower  \\\n",
       "0  chevrolet chevelle malibu  18.0          8         307.0       130.0   \n",
       "1          buick skylark 320  15.0          8         350.0       165.0   \n",
       "2         plymouth satellite  18.0          8         318.0       150.0   \n",
       "3              amc rebel sst  16.0          8         304.0       150.0   \n",
       "4                ford torino  17.0          8         302.0       140.0   \n",
       "\n",
       "   weight  acceleration  model_year origin  \n",
       "0    3504          12.0          70    usa  \n",
       "1    3693          11.5          70    usa  \n",
       "2    3436          11.0          70    usa  \n",
       "3    3433          12.0          70    usa  \n",
       "4    3449          10.5          70    usa  "
      ]
     },
     "execution_count": 417,
     "metadata": {},
     "output_type": "execute_result"
    }
   ],
   "source": [
    "df.head()"
   ]
  },
  {
   "cell_type": "code",
   "execution_count": 12,
   "id": "3b8be1ce-0ee4-44bc-85b7-e408f2d36383",
   "metadata": {
    "scrolled": true
   },
   "outputs": [
    {
     "data": {
      "text/html": [
       "<div>\n",
       "<style scoped>\n",
       "    .dataframe tbody tr th:only-of-type {\n",
       "        vertical-align: middle;\n",
       "    }\n",
       "\n",
       "    .dataframe tbody tr th {\n",
       "        vertical-align: top;\n",
       "    }\n",
       "\n",
       "    .dataframe thead th {\n",
       "        text-align: right;\n",
       "    }\n",
       "</style>\n",
       "<table border=\"1\" class=\"dataframe\">\n",
       "  <thead>\n",
       "    <tr style=\"text-align: right;\">\n",
       "      <th></th>\n",
       "      <th>count</th>\n",
       "      <th>mean</th>\n",
       "      <th>std</th>\n",
       "      <th>min</th>\n",
       "      <th>25%</th>\n",
       "      <th>50%</th>\n",
       "      <th>75%</th>\n",
       "      <th>max</th>\n",
       "    </tr>\n",
       "  </thead>\n",
       "  <tbody>\n",
       "    <tr>\n",
       "      <th>mpg</th>\n",
       "      <td>398.0</td>\n",
       "      <td>23.514573</td>\n",
       "      <td>7.815984</td>\n",
       "      <td>9.0</td>\n",
       "      <td>17.500</td>\n",
       "      <td>23.0</td>\n",
       "      <td>29.000</td>\n",
       "      <td>46.6</td>\n",
       "    </tr>\n",
       "    <tr>\n",
       "      <th>cylinders</th>\n",
       "      <td>398.0</td>\n",
       "      <td>5.454774</td>\n",
       "      <td>1.701004</td>\n",
       "      <td>3.0</td>\n",
       "      <td>4.000</td>\n",
       "      <td>4.0</td>\n",
       "      <td>8.000</td>\n",
       "      <td>8.0</td>\n",
       "    </tr>\n",
       "    <tr>\n",
       "      <th>displacement</th>\n",
       "      <td>398.0</td>\n",
       "      <td>193.425879</td>\n",
       "      <td>104.269838</td>\n",
       "      <td>68.0</td>\n",
       "      <td>104.250</td>\n",
       "      <td>148.5</td>\n",
       "      <td>262.000</td>\n",
       "      <td>455.0</td>\n",
       "    </tr>\n",
       "    <tr>\n",
       "      <th>horsepower</th>\n",
       "      <td>392.0</td>\n",
       "      <td>104.469388</td>\n",
       "      <td>38.491160</td>\n",
       "      <td>46.0</td>\n",
       "      <td>75.000</td>\n",
       "      <td>93.5</td>\n",
       "      <td>126.000</td>\n",
       "      <td>230.0</td>\n",
       "    </tr>\n",
       "    <tr>\n",
       "      <th>weight</th>\n",
       "      <td>398.0</td>\n",
       "      <td>2970.424623</td>\n",
       "      <td>846.841774</td>\n",
       "      <td>1613.0</td>\n",
       "      <td>2223.750</td>\n",
       "      <td>2803.5</td>\n",
       "      <td>3608.000</td>\n",
       "      <td>5140.0</td>\n",
       "    </tr>\n",
       "    <tr>\n",
       "      <th>acceleration</th>\n",
       "      <td>398.0</td>\n",
       "      <td>15.568090</td>\n",
       "      <td>2.757689</td>\n",
       "      <td>8.0</td>\n",
       "      <td>13.825</td>\n",
       "      <td>15.5</td>\n",
       "      <td>17.175</td>\n",
       "      <td>24.8</td>\n",
       "    </tr>\n",
       "    <tr>\n",
       "      <th>model_year</th>\n",
       "      <td>398.0</td>\n",
       "      <td>76.010050</td>\n",
       "      <td>3.697627</td>\n",
       "      <td>70.0</td>\n",
       "      <td>73.000</td>\n",
       "      <td>76.0</td>\n",
       "      <td>79.000</td>\n",
       "      <td>82.0</td>\n",
       "    </tr>\n",
       "  </tbody>\n",
       "</table>\n",
       "</div>"
      ],
      "text/plain": [
       "              count         mean         std     min       25%     50%  \\\n",
       "mpg           398.0    23.514573    7.815984     9.0    17.500    23.0   \n",
       "cylinders     398.0     5.454774    1.701004     3.0     4.000     4.0   \n",
       "displacement  398.0   193.425879  104.269838    68.0   104.250   148.5   \n",
       "horsepower    392.0   104.469388   38.491160    46.0    75.000    93.5   \n",
       "weight        398.0  2970.424623  846.841774  1613.0  2223.750  2803.5   \n",
       "acceleration  398.0    15.568090    2.757689     8.0    13.825    15.5   \n",
       "model_year    398.0    76.010050    3.697627    70.0    73.000    76.0   \n",
       "\n",
       "                   75%     max  \n",
       "mpg             29.000    46.6  \n",
       "cylinders        8.000     8.0  \n",
       "displacement   262.000   455.0  \n",
       "horsepower     126.000   230.0  \n",
       "weight        3608.000  5140.0  \n",
       "acceleration    17.175    24.8  \n",
       "model_year      79.000    82.0  "
      ]
     },
     "execution_count": 12,
     "metadata": {},
     "output_type": "execute_result"
    }
   ],
   "source": [
    "df.describe().T"
   ]
  },
  {
   "cell_type": "code",
   "execution_count": 16,
   "id": "e832252a-4794-4a55-947c-6c624f2c8814",
   "metadata": {},
   "outputs": [
    {
     "name": "stdout",
     "output_type": "stream",
     "text": [
      "<class 'pandas.core.frame.DataFrame'>\n",
      "RangeIndex: 398 entries, 0 to 397\n",
      "Data columns (total 9 columns):\n",
      " #   Column        Non-Null Count  Dtype  \n",
      "---  ------        --------------  -----  \n",
      " 0   name          398 non-null    object \n",
      " 1   mpg           398 non-null    float64\n",
      " 2   cylinders     398 non-null    int64  \n",
      " 3   displacement  398 non-null    float64\n",
      " 4   horsepower    392 non-null    float64\n",
      " 5   weight        398 non-null    int64  \n",
      " 6   acceleration  398 non-null    float64\n",
      " 7   model_year    398 non-null    int64  \n",
      " 8   origin        398 non-null    object \n",
      "dtypes: float64(4), int64(3), object(2)\n",
      "memory usage: 28.1+ KB\n"
     ]
    }
   ],
   "source": [
    "df.info()"
   ]
  },
  {
   "cell_type": "code",
   "execution_count": 15,
   "id": "392d80f8-b2aa-4ca0-afbe-560e83e2cdaf",
   "metadata": {},
   "outputs": [],
   "source": [
    "df1=df.copy()"
   ]
  },
  {
   "cell_type": "code",
   "execution_count": null,
   "id": "d69f19f7-ee14-4238-8a33-240cd3750fb6",
   "metadata": {},
   "outputs": [],
   "source": [
    "df"
   ]
  },
  {
   "cell_type": "code",
   "execution_count": 17,
   "id": "ac75baf0-4455-404c-ba5c-0f5fe64a13c2",
   "metadata": {},
   "outputs": [],
   "source": [
    "df1[\"brand\"]=df1[\"name\"].str.split(\" \").str[0]"
   ]
  },
  {
   "cell_type": "code",
   "execution_count": 19,
   "id": "51043811-207f-4011-a7b5-4379c05c0999",
   "metadata": {},
   "outputs": [],
   "source": [
    "df1[\"name\"]=df1[\"name\"].apply(lambda x:\" \".join(x.split()[1:]))"
   ]
  },
  {
   "cell_type": "code",
   "execution_count": 21,
   "id": "1503c1a1-9be0-44e1-8f7c-40e70ae50f20",
   "metadata": {},
   "outputs": [
    {
     "data": {
      "text/plain": [
       "'brand'"
      ]
     },
     "execution_count": 21,
     "metadata": {},
     "output_type": "execute_result"
    }
   ],
   "source": [
    "df1.columns[9]"
   ]
  },
  {
   "cell_type": "code",
   "execution_count": 23,
   "id": "21141d68-10ea-46ed-8ff4-24b22038c1a7",
   "metadata": {},
   "outputs": [
    {
     "data": {
      "text/plain": [
       "array(['chevrolet', 'buick', 'plymouth', 'amc', 'ford', 'pontiac',\n",
       "       'dodge', 'toyota', 'datsun', 'volkswagen', 'peugeot', 'audi',\n",
       "       'saab', 'bmw', 'chevy', 'hi', 'mercury', 'opel', 'fiat',\n",
       "       'oldsmobile', 'chrysler', 'mazda', 'volvo', 'renault', 'toyouta',\n",
       "       'maxda', 'honda', 'subaru', 'chevroelt', 'capri', 'vw',\n",
       "       'mercedes-benz', 'cadillac', 'mercedes', 'vokswagen', 'triumph',\n",
       "       'nissan'], dtype=object)"
      ]
     },
     "execution_count": 23,
     "metadata": {},
     "output_type": "execute_result"
    }
   ],
   "source": [
    "df1[\"brand\"].unique()"
   ]
  },
  {
   "cell_type": "code",
   "execution_count": 25,
   "id": "94fd55b3-f310-4e0d-9da9-05b38c2492d6",
   "metadata": {},
   "outputs": [],
   "source": [
    "df1.loc[df1[\"brand\"]==\"maxda\",\"brand\"]=\"mazda\""
   ]
  },
  {
   "cell_type": "code",
   "execution_count": 27,
   "id": "8724decc-1ebb-4353-a8f0-3dc5bf21ed40",
   "metadata": {},
   "outputs": [],
   "source": [
    "df1.loc[df1[\"brand\"]==\"chevy\",\"brand\"]=\t\"chevrolet\""
   ]
  },
  {
   "cell_type": "code",
   "execution_count": 29,
   "id": "254d57f6-a90a-4661-80d0-77cda52f7e50",
   "metadata": {},
   "outputs": [],
   "source": [
    "df1.loc[df1[\"brand\"]==\"chevroelt\",\"brand\"]=\t\"chevrolet\""
   ]
  },
  {
   "cell_type": "code",
   "execution_count": 33,
   "id": "0b7489b5-3471-4038-b341-85b35fefb6ca",
   "metadata": {},
   "outputs": [],
   "source": [
    "df1.loc[df1[\"brand\"]==\"mercedes\",\"brand\"]=\t\"mercedes-benz\""
   ]
  },
  {
   "cell_type": "code",
   "execution_count": 35,
   "id": "baf358dd-2a02-43d4-8e5c-e9f882400f03",
   "metadata": {},
   "outputs": [],
   "source": [
    "df1.loc[df1[\"brand\"]==\"vokswagen\",\"brand\"]=\t\"volkswagen\""
   ]
  },
  {
   "cell_type": "code",
   "execution_count": 40,
   "id": "38ccb179-7ccb-4e33-aec9-a1e3a2a6eacd",
   "metadata": {},
   "outputs": [],
   "source": [
    "df1.loc[df1[\"brand\"]==\"vw\",\"brand\"]=\"volkswagen\""
   ]
  },
  {
   "cell_type": "code",
   "execution_count": 42,
   "id": "3eb4b051-a9b4-4a43-bc3e-87f9b579c24b",
   "metadata": {},
   "outputs": [],
   "source": [
    "df1=df1.iloc[:,[9,0,1,2,3,4,5,6,7,8]]"
   ]
  },
  {
   "cell_type": "code",
   "execution_count": 45,
   "id": "c62f7959-bce4-4ebb-8c90-18cdc2a7252a",
   "metadata": {},
   "outputs": [
    {
     "data": {
      "text/plain": [
       "['amc',\n",
       " 'audi',\n",
       " 'bmw',\n",
       " 'buick',\n",
       " 'cadillac',\n",
       " 'capri',\n",
       " 'chevrolet',\n",
       " 'chrysler',\n",
       " 'datsun',\n",
       " 'dodge',\n",
       " 'fiat',\n",
       " 'ford',\n",
       " 'hi',\n",
       " 'honda',\n",
       " 'mazda',\n",
       " 'mercedes-benz',\n",
       " 'mercury',\n",
       " 'nissan',\n",
       " 'oldsmobile',\n",
       " 'opel',\n",
       " 'peugeot',\n",
       " 'plymouth',\n",
       " 'pontiac',\n",
       " 'renault',\n",
       " 'saab',\n",
       " 'subaru',\n",
       " 'toyota',\n",
       " 'toyouta',\n",
       " 'triumph',\n",
       " 'volkswagen',\n",
       " 'volvo']"
      ]
     },
     "execution_count": 45,
     "metadata": {},
     "output_type": "execute_result"
    }
   ],
   "source": [
    "sorted(df1[\"brand\"].unique())"
   ]
  },
  {
   "cell_type": "code",
   "execution_count": 47,
   "id": "767dae8d-52e1-4297-b73a-ef1b15aaf2d4",
   "metadata": {},
   "outputs": [],
   "source": [
    "df1[\"mpg\"] = df1[\"mpg\"].apply(lambda x: round((100 * 3.78541) / (x * 1.60934),1))"
   ]
  },
  {
   "cell_type": "code",
   "execution_count": 49,
   "id": "fa128c99-8210-441b-ba33-82f10cfacb40",
   "metadata": {},
   "outputs": [],
   "source": [
    "df1.rename(columns={\"mpg\":\"fuel_efficiency\"},inplace=True)"
   ]
  },
  {
   "cell_type": "code",
   "execution_count": 51,
   "id": "738d49c2-b074-4472-ba94-898415e2702b",
   "metadata": {
    "scrolled": true
   },
   "outputs": [
    {
     "data": {
      "text/html": [
       "<div>\n",
       "<style scoped>\n",
       "    .dataframe tbody tr th:only-of-type {\n",
       "        vertical-align: middle;\n",
       "    }\n",
       "\n",
       "    .dataframe tbody tr th {\n",
       "        vertical-align: top;\n",
       "    }\n",
       "\n",
       "    .dataframe thead th {\n",
       "        text-align: right;\n",
       "    }\n",
       "</style>\n",
       "<table border=\"1\" class=\"dataframe\">\n",
       "  <thead>\n",
       "    <tr style=\"text-align: right;\">\n",
       "      <th></th>\n",
       "      <th>brand</th>\n",
       "      <th>name</th>\n",
       "      <th>fuel_efficiency</th>\n",
       "      <th>cylinders</th>\n",
       "      <th>displacement</th>\n",
       "      <th>horsepower</th>\n",
       "      <th>weight</th>\n",
       "      <th>acceleration</th>\n",
       "      <th>model_year</th>\n",
       "      <th>origin</th>\n",
       "    </tr>\n",
       "  </thead>\n",
       "  <tbody>\n",
       "    <tr>\n",
       "      <th>0</th>\n",
       "      <td>chevrolet</td>\n",
       "      <td>chevelle malibu</td>\n",
       "      <td>13.1</td>\n",
       "      <td>8</td>\n",
       "      <td>307.0</td>\n",
       "      <td>130.0</td>\n",
       "      <td>3504</td>\n",
       "      <td>12.0</td>\n",
       "      <td>70</td>\n",
       "      <td>usa</td>\n",
       "    </tr>\n",
       "    <tr>\n",
       "      <th>1</th>\n",
       "      <td>buick</td>\n",
       "      <td>skylark 320</td>\n",
       "      <td>15.7</td>\n",
       "      <td>8</td>\n",
       "      <td>350.0</td>\n",
       "      <td>165.0</td>\n",
       "      <td>3693</td>\n",
       "      <td>11.5</td>\n",
       "      <td>70</td>\n",
       "      <td>usa</td>\n",
       "    </tr>\n",
       "    <tr>\n",
       "      <th>2</th>\n",
       "      <td>plymouth</td>\n",
       "      <td>satellite</td>\n",
       "      <td>13.1</td>\n",
       "      <td>8</td>\n",
       "      <td>318.0</td>\n",
       "      <td>150.0</td>\n",
       "      <td>3436</td>\n",
       "      <td>11.0</td>\n",
       "      <td>70</td>\n",
       "      <td>usa</td>\n",
       "    </tr>\n",
       "    <tr>\n",
       "      <th>3</th>\n",
       "      <td>amc</td>\n",
       "      <td>rebel sst</td>\n",
       "      <td>14.7</td>\n",
       "      <td>8</td>\n",
       "      <td>304.0</td>\n",
       "      <td>150.0</td>\n",
       "      <td>3433</td>\n",
       "      <td>12.0</td>\n",
       "      <td>70</td>\n",
       "      <td>usa</td>\n",
       "    </tr>\n",
       "    <tr>\n",
       "      <th>4</th>\n",
       "      <td>ford</td>\n",
       "      <td>torino</td>\n",
       "      <td>13.8</td>\n",
       "      <td>8</td>\n",
       "      <td>302.0</td>\n",
       "      <td>140.0</td>\n",
       "      <td>3449</td>\n",
       "      <td>10.5</td>\n",
       "      <td>70</td>\n",
       "      <td>usa</td>\n",
       "    </tr>\n",
       "    <tr>\n",
       "      <th>...</th>\n",
       "      <td>...</td>\n",
       "      <td>...</td>\n",
       "      <td>...</td>\n",
       "      <td>...</td>\n",
       "      <td>...</td>\n",
       "      <td>...</td>\n",
       "      <td>...</td>\n",
       "      <td>...</td>\n",
       "      <td>...</td>\n",
       "      <td>...</td>\n",
       "    </tr>\n",
       "    <tr>\n",
       "      <th>393</th>\n",
       "      <td>ford</td>\n",
       "      <td>mustang gl</td>\n",
       "      <td>8.7</td>\n",
       "      <td>4</td>\n",
       "      <td>140.0</td>\n",
       "      <td>86.0</td>\n",
       "      <td>2790</td>\n",
       "      <td>15.6</td>\n",
       "      <td>82</td>\n",
       "      <td>usa</td>\n",
       "    </tr>\n",
       "    <tr>\n",
       "      <th>394</th>\n",
       "      <td>volkswagen</td>\n",
       "      <td>pickup</td>\n",
       "      <td>5.3</td>\n",
       "      <td>4</td>\n",
       "      <td>97.0</td>\n",
       "      <td>52.0</td>\n",
       "      <td>2130</td>\n",
       "      <td>24.6</td>\n",
       "      <td>82</td>\n",
       "      <td>europe</td>\n",
       "    </tr>\n",
       "    <tr>\n",
       "      <th>395</th>\n",
       "      <td>dodge</td>\n",
       "      <td>rampage</td>\n",
       "      <td>7.4</td>\n",
       "      <td>4</td>\n",
       "      <td>135.0</td>\n",
       "      <td>84.0</td>\n",
       "      <td>2295</td>\n",
       "      <td>11.6</td>\n",
       "      <td>82</td>\n",
       "      <td>usa</td>\n",
       "    </tr>\n",
       "    <tr>\n",
       "      <th>396</th>\n",
       "      <td>ford</td>\n",
       "      <td>ranger</td>\n",
       "      <td>8.4</td>\n",
       "      <td>4</td>\n",
       "      <td>120.0</td>\n",
       "      <td>79.0</td>\n",
       "      <td>2625</td>\n",
       "      <td>18.6</td>\n",
       "      <td>82</td>\n",
       "      <td>usa</td>\n",
       "    </tr>\n",
       "    <tr>\n",
       "      <th>397</th>\n",
       "      <td>chevrolet</td>\n",
       "      <td>s-10</td>\n",
       "      <td>7.6</td>\n",
       "      <td>4</td>\n",
       "      <td>119.0</td>\n",
       "      <td>82.0</td>\n",
       "      <td>2720</td>\n",
       "      <td>19.4</td>\n",
       "      <td>82</td>\n",
       "      <td>usa</td>\n",
       "    </tr>\n",
       "  </tbody>\n",
       "</table>\n",
       "<p>398 rows × 10 columns</p>\n",
       "</div>"
      ],
      "text/plain": [
       "          brand             name  fuel_efficiency  cylinders  displacement  \\\n",
       "0     chevrolet  chevelle malibu             13.1          8         307.0   \n",
       "1         buick      skylark 320             15.7          8         350.0   \n",
       "2      plymouth        satellite             13.1          8         318.0   \n",
       "3           amc        rebel sst             14.7          8         304.0   \n",
       "4          ford           torino             13.8          8         302.0   \n",
       "..          ...              ...              ...        ...           ...   \n",
       "393        ford       mustang gl              8.7          4         140.0   \n",
       "394  volkswagen           pickup              5.3          4          97.0   \n",
       "395       dodge          rampage              7.4          4         135.0   \n",
       "396        ford           ranger              8.4          4         120.0   \n",
       "397   chevrolet             s-10              7.6          4         119.0   \n",
       "\n",
       "     horsepower  weight  acceleration  model_year  origin  \n",
       "0         130.0    3504          12.0          70     usa  \n",
       "1         165.0    3693          11.5          70     usa  \n",
       "2         150.0    3436          11.0          70     usa  \n",
       "3         150.0    3433          12.0          70     usa  \n",
       "4         140.0    3449          10.5          70     usa  \n",
       "..          ...     ...           ...         ...     ...  \n",
       "393        86.0    2790          15.6          82     usa  \n",
       "394        52.0    2130          24.6          82  europe  \n",
       "395        84.0    2295          11.6          82     usa  \n",
       "396        79.0    2625          18.6          82     usa  \n",
       "397        82.0    2720          19.4          82     usa  \n",
       "\n",
       "[398 rows x 10 columns]"
      ]
     },
     "execution_count": 51,
     "metadata": {},
     "output_type": "execute_result"
    }
   ],
   "source": [
    "df1"
   ]
  },
  {
   "cell_type": "code",
   "execution_count": 53,
   "id": "dd62c2c2-a3f1-47aa-907a-d767de7cc647",
   "metadata": {},
   "outputs": [],
   "source": [
    "df1[\"displacement\"]=df1[\"displacement\"].apply(lambda x:round(x*0.016387064,1))"
   ]
  },
  {
   "cell_type": "code",
   "execution_count": 55,
   "id": "a32bfaf6-4087-4361-a5cb-63425ec1f9e9",
   "metadata": {},
   "outputs": [],
   "source": [
    "df1[\"weight\"]=df1[\"weight\"].apply(lambda x:round(x*0.45359237))"
   ]
  },
  {
   "cell_type": "code",
   "execution_count": 57,
   "id": "429d7490-d4d5-4500-9f24-2b4e5aedcf39",
   "metadata": {},
   "outputs": [],
   "source": [
    "df1=df1.rename(columns={\"weight\":\"weight(kg)\"})"
   ]
  },
  {
   "cell_type": "code",
   "execution_count": 59,
   "id": "570e333f-5257-4c2e-9fd3-a92386af8880",
   "metadata": {},
   "outputs": [],
   "source": [
    "df1=df1.rename(columns={\"displacement\":\"displacement(L)\"})"
   ]
  },
  {
   "cell_type": "code",
   "execution_count": 456,
   "id": "3916fe04-6d82-4120-9022-8a6d96ba9196",
   "metadata": {},
   "outputs": [
    {
     "data": {
      "text/html": [
       "<div>\n",
       "<style scoped>\n",
       "    .dataframe tbody tr th:only-of-type {\n",
       "        vertical-align: middle;\n",
       "    }\n",
       "\n",
       "    .dataframe tbody tr th {\n",
       "        vertical-align: top;\n",
       "    }\n",
       "\n",
       "    .dataframe thead th {\n",
       "        text-align: right;\n",
       "    }\n",
       "</style>\n",
       "<table border=\"1\" class=\"dataframe\">\n",
       "  <thead>\n",
       "    <tr style=\"text-align: right;\">\n",
       "      <th></th>\n",
       "      <th>brand</th>\n",
       "      <th>name</th>\n",
       "      <th>fuel_efficiency</th>\n",
       "      <th>cylinders</th>\n",
       "      <th>displacement(L)</th>\n",
       "      <th>horsepower</th>\n",
       "      <th>weight(kg)</th>\n",
       "      <th>acceleration</th>\n",
       "      <th>model_year</th>\n",
       "      <th>origin</th>\n",
       "    </tr>\n",
       "  </thead>\n",
       "  <tbody>\n",
       "    <tr>\n",
       "      <th>0</th>\n",
       "      <td>chevrolet</td>\n",
       "      <td>chevelle malibu</td>\n",
       "      <td>13.1</td>\n",
       "      <td>8</td>\n",
       "      <td>5.0</td>\n",
       "      <td>130.0</td>\n",
       "      <td>1589</td>\n",
       "      <td>12.0</td>\n",
       "      <td>70</td>\n",
       "      <td>usa</td>\n",
       "    </tr>\n",
       "    <tr>\n",
       "      <th>1</th>\n",
       "      <td>buick</td>\n",
       "      <td>skylark 320</td>\n",
       "      <td>15.7</td>\n",
       "      <td>8</td>\n",
       "      <td>5.7</td>\n",
       "      <td>165.0</td>\n",
       "      <td>1675</td>\n",
       "      <td>11.5</td>\n",
       "      <td>70</td>\n",
       "      <td>usa</td>\n",
       "    </tr>\n",
       "    <tr>\n",
       "      <th>2</th>\n",
       "      <td>plymouth</td>\n",
       "      <td>satellite</td>\n",
       "      <td>13.1</td>\n",
       "      <td>8</td>\n",
       "      <td>5.2</td>\n",
       "      <td>150.0</td>\n",
       "      <td>1559</td>\n",
       "      <td>11.0</td>\n",
       "      <td>70</td>\n",
       "      <td>usa</td>\n",
       "    </tr>\n",
       "    <tr>\n",
       "      <th>3</th>\n",
       "      <td>amc</td>\n",
       "      <td>rebel sst</td>\n",
       "      <td>14.7</td>\n",
       "      <td>8</td>\n",
       "      <td>5.0</td>\n",
       "      <td>150.0</td>\n",
       "      <td>1557</td>\n",
       "      <td>12.0</td>\n",
       "      <td>70</td>\n",
       "      <td>usa</td>\n",
       "    </tr>\n",
       "    <tr>\n",
       "      <th>4</th>\n",
       "      <td>ford</td>\n",
       "      <td>torino</td>\n",
       "      <td>13.8</td>\n",
       "      <td>8</td>\n",
       "      <td>4.9</td>\n",
       "      <td>140.0</td>\n",
       "      <td>1564</td>\n",
       "      <td>10.5</td>\n",
       "      <td>70</td>\n",
       "      <td>usa</td>\n",
       "    </tr>\n",
       "    <tr>\n",
       "      <th>...</th>\n",
       "      <td>...</td>\n",
       "      <td>...</td>\n",
       "      <td>...</td>\n",
       "      <td>...</td>\n",
       "      <td>...</td>\n",
       "      <td>...</td>\n",
       "      <td>...</td>\n",
       "      <td>...</td>\n",
       "      <td>...</td>\n",
       "      <td>...</td>\n",
       "    </tr>\n",
       "    <tr>\n",
       "      <th>393</th>\n",
       "      <td>ford</td>\n",
       "      <td>mustang gl</td>\n",
       "      <td>8.7</td>\n",
       "      <td>4</td>\n",
       "      <td>2.3</td>\n",
       "      <td>86.0</td>\n",
       "      <td>1266</td>\n",
       "      <td>15.6</td>\n",
       "      <td>82</td>\n",
       "      <td>usa</td>\n",
       "    </tr>\n",
       "    <tr>\n",
       "      <th>394</th>\n",
       "      <td>vw</td>\n",
       "      <td>pickup</td>\n",
       "      <td>5.3</td>\n",
       "      <td>4</td>\n",
       "      <td>1.6</td>\n",
       "      <td>52.0</td>\n",
       "      <td>966</td>\n",
       "      <td>24.6</td>\n",
       "      <td>82</td>\n",
       "      <td>europe</td>\n",
       "    </tr>\n",
       "    <tr>\n",
       "      <th>395</th>\n",
       "      <td>dodge</td>\n",
       "      <td>rampage</td>\n",
       "      <td>7.4</td>\n",
       "      <td>4</td>\n",
       "      <td>2.2</td>\n",
       "      <td>84.0</td>\n",
       "      <td>1041</td>\n",
       "      <td>11.6</td>\n",
       "      <td>82</td>\n",
       "      <td>usa</td>\n",
       "    </tr>\n",
       "    <tr>\n",
       "      <th>396</th>\n",
       "      <td>ford</td>\n",
       "      <td>ranger</td>\n",
       "      <td>8.4</td>\n",
       "      <td>4</td>\n",
       "      <td>2.0</td>\n",
       "      <td>79.0</td>\n",
       "      <td>1191</td>\n",
       "      <td>18.6</td>\n",
       "      <td>82</td>\n",
       "      <td>usa</td>\n",
       "    </tr>\n",
       "    <tr>\n",
       "      <th>397</th>\n",
       "      <td>chevy</td>\n",
       "      <td>s-10</td>\n",
       "      <td>7.6</td>\n",
       "      <td>4</td>\n",
       "      <td>2.0</td>\n",
       "      <td>82.0</td>\n",
       "      <td>1234</td>\n",
       "      <td>19.4</td>\n",
       "      <td>82</td>\n",
       "      <td>usa</td>\n",
       "    </tr>\n",
       "  </tbody>\n",
       "</table>\n",
       "<p>398 rows × 10 columns</p>\n",
       "</div>"
      ],
      "text/plain": [
       "         brand             name  fuel_efficiency  cylinders  displacement(L)  \\\n",
       "0    chevrolet  chevelle malibu             13.1          8              5.0   \n",
       "1        buick      skylark 320             15.7          8              5.7   \n",
       "2     plymouth        satellite             13.1          8              5.2   \n",
       "3          amc        rebel sst             14.7          8              5.0   \n",
       "4         ford           torino             13.8          8              4.9   \n",
       "..         ...              ...              ...        ...              ...   \n",
       "393       ford       mustang gl              8.7          4              2.3   \n",
       "394         vw           pickup              5.3          4              1.6   \n",
       "395      dodge          rampage              7.4          4              2.2   \n",
       "396       ford           ranger              8.4          4              2.0   \n",
       "397      chevy             s-10              7.6          4              2.0   \n",
       "\n",
       "     horsepower  weight(kg)  acceleration  model_year  origin  \n",
       "0         130.0        1589          12.0          70     usa  \n",
       "1         165.0        1675          11.5          70     usa  \n",
       "2         150.0        1559          11.0          70     usa  \n",
       "3         150.0        1557          12.0          70     usa  \n",
       "4         140.0        1564          10.5          70     usa  \n",
       "..          ...         ...           ...         ...     ...  \n",
       "393        86.0        1266          15.6          82     usa  \n",
       "394        52.0         966          24.6          82  europe  \n",
       "395        84.0        1041          11.6          82     usa  \n",
       "396        79.0        1191          18.6          82     usa  \n",
       "397        82.0        1234          19.4          82     usa  \n",
       "\n",
       "[398 rows x 10 columns]"
      ]
     },
     "execution_count": 456,
     "metadata": {},
     "output_type": "execute_result"
    }
   ],
   "source": [
    "df1"
   ]
  },
  {
   "cell_type": "code",
   "execution_count": 409,
   "id": "7e465397-4d19-47b4-be84-d78d897e478a",
   "metadata": {
    "scrolled": true
   },
   "outputs": [
    {
     "ename": "AttributeError",
     "evalue": "'str' object has no attribute 'loc'",
     "output_type": "error",
     "traceback": [
      "\u001b[1;31m---------------------------------------------------------------------------\u001b[0m",
      "\u001b[1;31mAttributeError\u001b[0m                            Traceback (most recent call last)",
      "Cell \u001b[1;32mIn[409], line 1\u001b[0m\n\u001b[1;32m----> 1\u001b[0m df1\u001b[38;5;241m.\u001b[39mloc[df1[\u001b[38;5;124m\"\u001b[39m\u001b[38;5;124mbrand\u001b[39m\u001b[38;5;124m\"\u001b[39m]\u001b[38;5;241m==\u001b[39m\u001b[38;5;124m\"\u001b[39m\u001b[38;5;124mtoyouta\u001b[39m\u001b[38;5;124m\"\u001b[39m]\n",
      "\u001b[1;31mAttributeError\u001b[0m: 'str' object has no attribute 'loc'"
     ]
    }
   ],
   "source": [
    "df1.loc[df1[\"brand\"]==\"toyouta\"]"
   ]
  },
  {
   "cell_type": "code",
   "execution_count": 61,
   "id": "3e1b405c-35cb-40ad-8fce-05cf056c50f2",
   "metadata": {},
   "outputs": [],
   "source": [
    "df1.loc[df1[\"brand\"]==\"toyouta\",\"brand\"]=\"toyota\""
   ]
  },
  {
   "cell_type": "code",
   "execution_count": 63,
   "id": "8bd29f79-c8f5-496a-8dc8-f522f82cb13c",
   "metadata": {},
   "outputs": [],
   "source": [
    "df1.drop(df1.loc[df1[\"brand\"]==\"hi\"].index,inplace=True)"
   ]
  },
  {
   "cell_type": "code",
   "execution_count": 65,
   "id": "89ff66ac-943b-4941-ad5d-da7ef68ffb71",
   "metadata": {},
   "outputs": [],
   "source": [
    "df1.dropna(inplace=True)\n",
    "df1=df1.reset_index(drop=True)"
   ]
  },
  {
   "cell_type": "code",
   "execution_count": 67,
   "id": "da815776-0540-4361-acf9-7ee3a6fd9cc0",
   "metadata": {},
   "outputs": [],
   "source": [
    "corr=df1[[\"fuel_efficiency\",\"cylinders\",\"displacement(L)\",\"horsepower\",\"weight(kg)\",\"acceleration\"]].corr()"
   ]
  },
  {
   "cell_type": "code",
   "execution_count": 69,
   "id": "5a972274-2e71-4d5a-805d-b7d0aa99433e",
   "metadata": {},
   "outputs": [],
   "source": [
    "df1.to_csv(\"cleaned_data.csv\",index=False)"
   ]
  },
  {
   "cell_type": "code",
   "execution_count": 370,
   "id": "be5d8872-642d-481a-89ba-8bc3b915a2ea",
   "metadata": {},
   "outputs": [
    {
     "data": {
      "image/png": "[encoded data removed]",
      "text/plain": [
       "<Figure size 640x480 with 2 Axes>"
      ]
     },
     "metadata": {},
     "output_type": "display_data"
    }
   ],
   "source": [
    "sns.heatmap(corr, annot=True, cmap='coolwarm')\n",
    "plt.title(\"Korelasyon Matrisi\")\n",
    "plt.show()"
   ]
  },
  {
   "cell_type": "code",
   "execution_count": null,
   "id": "17d0c751-e8b2-486b-8769-bae2932173fe",
   "metadata": {},
   "outputs": [],
   "source": []
  }
 ],
 "metadata": {
  "kernelspec": {
   "display_name": "Python [conda env:base] *",
   "language": "python",
   "name": "conda-base-py"
  },
  "language_info": {
   "codemirror_mode": {
    "name": "ipython",
    "version": 3
   },
   "file_extension": ".py",
   "mimetype": "text/x-python",
   "name": "python",
   "nbconvert_exporter": "python",
   "pygments_lexer": "ipython3",
   "version": "3.12.3"
  }
 },
 "nbformat": 4,
 "nbformat_minor": 5
}
